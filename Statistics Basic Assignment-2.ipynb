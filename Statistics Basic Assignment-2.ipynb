{
 "cells": [
  {
   "cell_type": "markdown",
   "id": "6347f8a1-91c2-4149-b88a-3c6a98621123",
   "metadata": {},
   "source": [
    "Q1. What are the three measures of central tendency?"
   ]
  },
  {
   "cell_type": "raw",
   "id": "cd2325aa-fa02-4ef8-9278-810730d6f52a",
   "metadata": {},
   "source": [
    "Ans:- 1) Mean\n",
    "      2) Median\n",
    "      3) Mode"
   ]
  },
  {
   "cell_type": "markdown",
   "id": "03bdfd07-4dba-4ad5-9870-6d814dc230ca",
   "metadata": {},
   "source": [
    "Q2. What is the difference between the mean, median, and mode? How are they used to measure the\n",
    "central tendency of a dataset?"
   ]
  },
  {
   "cell_type": "raw",
   "id": "71600fc4-2d34-45d9-862e-82015950e570",
   "metadata": {},
   "source": [
    "Ans:- Mean:- The mean of a data set is found by adding all numbers in the data set and then dividing by the number of values in the set.\n",
    "      Median:- The median is the middle value when a data set is ordered from least to greatest.\n",
    "      Mode:- The mode is the number that occurs most often in a data set.\n",
    "      \n",
    "      ## How they used to measure the central tendency of dataset:-\n",
    "Mode: the most frequent value.\n",
    "Median: the middle number in an ordered dataset.\n",
    "Mean: the sum of all values divided by the total number of values."
   ]
  },
  {
   "cell_type": "markdown",
   "id": "a92b2c13-9c78-455d-a837-70a9b38ec2fe",
   "metadata": {},
   "source": [
    "Q3. Measure the three measures of central tendency for the given height data:\n",
    "[178,177,176,177,178.2,178,175,179,180,175,178.9,176.2,177,172.5,178,176.5]"
   ]
  },
  {
   "cell_type": "code",
   "execution_count": 1,
   "id": "85e080da-afec-4ca2-bea3-07d3a11914ac",
   "metadata": {},
   "outputs": [],
   "source": [
    "data = [178,177,176,177,178.2,178,175,179,180,175,178.9,176.2,177,172.5,178,176.5]"
   ]
  },
  {
   "cell_type": "code",
   "execution_count": 2,
   "id": "12c48878-6d60-40ba-9bdc-f03c5fbee727",
   "metadata": {},
   "outputs": [
    {
     "data": {
      "text/plain": [
       "177.01875"
      ]
     },
     "execution_count": 2,
     "metadata": {},
     "output_type": "execute_result"
    }
   ],
   "source": [
    "## Mean\n",
    "import numpy as np\n",
    "np.mean(data)"
   ]
  },
  {
   "cell_type": "code",
   "execution_count": 3,
   "id": "416ad95e-f3db-481f-ab5d-7e133eab0c2c",
   "metadata": {},
   "outputs": [
    {
     "data": {
      "text/plain": [
       "177.0"
      ]
     },
     "execution_count": 3,
     "metadata": {},
     "output_type": "execute_result"
    }
   ],
   "source": [
    "## Median\n",
    "np.median(data)"
   ]
  },
  {
   "cell_type": "code",
   "execution_count": 4,
   "id": "b0c2adfc-6fda-4b77-9423-928697bb0dcb",
   "metadata": {},
   "outputs": [
    {
     "name": "stderr",
     "output_type": "stream",
     "text": [
      "/tmp/ipykernel_106/2517103814.py:3: FutureWarning: Unlike other reduction functions (e.g. `skew`, `kurtosis`), the default behavior of `mode` typically preserves the axis it acts along. In SciPy 1.11.0, this behavior will change: the default value of `keepdims` will become False, the `axis` over which the statistic is taken will be eliminated, and the value None will no longer be accepted. Set `keepdims` to True or False to avoid this warning.\n",
      "  stats.mode(data)\n"
     ]
    },
    {
     "data": {
      "text/plain": [
       "ModeResult(mode=array([177.]), count=array([3]))"
      ]
     },
     "execution_count": 4,
     "metadata": {},
     "output_type": "execute_result"
    }
   ],
   "source": [
    "## Mode\n",
    "from scipy import stats\n",
    "stats.mode(data)"
   ]
  },
  {
   "cell_type": "markdown",
   "id": "dd0c93c2-c42e-4f8c-bb3b-42dcd8f9ffc2",
   "metadata": {},
   "source": [
    "Q4. Find the standard deviation for the given data:\n",
    "[178,177,176,177,178.2,178,175,179,180,175,178.9,176.2,177,172.5,178,176.5]"
   ]
  },
  {
   "cell_type": "code",
   "execution_count": 5,
   "id": "569a9691-d38a-47af-9982-bf4c8bae3cd3",
   "metadata": {},
   "outputs": [],
   "source": [
    "data1 = [178,177,176,177,178.2,178,175,179,180,175,178.9,176.2,177,172.5,178,176.5]"
   ]
  },
  {
   "cell_type": "code",
   "execution_count": 6,
   "id": "42e821b8-5628-4b35-937b-677b09596cec",
   "metadata": {},
   "outputs": [
    {
     "data": {
      "text/plain": [
       "1.7885814036548633"
      ]
     },
     "execution_count": 6,
     "metadata": {},
     "output_type": "execute_result"
    }
   ],
   "source": [
    "## Standard deviation\n",
    "np.std(data1)"
   ]
  },
  {
   "cell_type": "markdown",
   "id": "948eb26d-f8c1-4090-9221-1b5638e70229",
   "metadata": {},
   "source": [
    "Q5. How are measures of dispersion such as range, variance, and standard deviation used to describe\n",
    "the spread of a dataset? Provide an example."
   ]
  },
  {
   "cell_type": "raw",
   "id": "93d2a341-01d8-4f0b-8465-ffd7f39efe10",
   "metadata": {},
   "source": [
    "Ans:- 1) range:- The range of the data is given as the difference between the maximum and the minimum values of the observations in the data.\n",
    "       Example:- let’s say we have data on the number of customers walking in the store in a week. \n",
    "       10, 14, 8, 10, 15, 4, 7\n",
    "\n",
    "Minimum value in data = 7 \n",
    "\n",
    "Maximum Value in the data = 15\n",
    "\n",
    "Range = Maximum Value in the data – Minimum value in the data  \n",
    "\n",
    "           = 15 – 7 \n",
    "\n",
    "           = 8 \n",
    "\n",
    "2) variance:- The variance of the data is given by measuring the distance of the observed values from the mean of the distribution.\n",
    "Example:- To find the variance, we first need to find the mean, \n",
    "\n",
    "Mean = \\frac{( -4  + -2 + 0 + -2 + 6 + 4 + 6 + 0  - 6 + 4)}{10}\n",
    "\n",
    "          = \\frac{6}{10}\n",
    "\n",
    "          = 0.6\n",
    "\n",
    "We know the formula for Variance, \n",
    "\n",
    "Variance =  \\frac{\\sum^{n}_{0}(x_i - \\bar{x})^2}{n}\n",
    "\n",
    "                = \\frac{(x_1 - \\bar{x})^2 + (x_2 - \\bar{x})^2 + (x_3 - \\bar{x})^2 .... (x_n - \\bar{x})^2}{n}\n",
    "\n",
    "                = \\frac{(-4 - 0.6)^2 + (-2 - 0.6)^2 + (0 - 0.6)^2 .... }{10}\n",
    "\n",
    "                = 17.82 \n",
    "\n",
    "\n",
    "3) standard deviation:- we define standard deviation. It is denoted as \\sigma\n",
    "Example:- \\sigma = \\sqrt{\\frac{\\sum^{n}_{0}(x_i - \\bar{x})^2}{n}}\n",
    "⇒ \\sigma = \\sqrt{17.82}\n",
    "\n",
    "⇒ \\sigma = 4.22"
   ]
  },
  {
   "cell_type": "markdown",
   "id": "cae3ef2e-4896-4974-9cf2-d14b6891cdf7",
   "metadata": {},
   "source": [
    "Q6. What is a Venn diagram?"
   ]
  },
  {
   "cell_type": "markdown",
   "id": "6a5dab9d-619d-42d6-80a2-31a1cb601fba",
   "metadata": {},
   "source": [
    "Ans:- Venn diagram:- Venn diagrams are the diagrams that are used to represent the sets, relation between the sets and operation performed on them, in a pictorial way. "
   ]
  },
  {
   "cell_type": "raw",
   "id": "f1ac1af0-3fab-4406-8867-6e296d4547e9",
   "metadata": {},
   "source": [
    "Q7. For the two given sets A = (2,3,4,5,6,7) & B = (0,2,6,8,10). Find:\n",
    "(i) A  B\n",
    "(ii) A ⋃ B"
   ]
  },
  {
   "cell_type": "raw",
   "id": "55b05d7b-f7d3-4c5b-9b93-3267cceceeb1",
   "metadata": {},
   "source": [
    "Ans:- (i) (2,6)\n",
    "      (ii) (0,2,3,4,5,6,7,8,10)"
   ]
  },
  {
   "cell_type": "markdown",
   "id": "c2a38a30-1cdf-4725-bc39-813dc53948e3",
   "metadata": {},
   "source": [
    "Q8. What do you understand about skewness in data?"
   ]
  },
  {
   "cell_type": "markdown",
   "id": "b8ff2e9f-f7cb-45b0-b571-e33fbcb37c26",
   "metadata": {},
   "source": [
    "Ans:- Skewness is a measurement of the distortion of symmetrical distribution or asymmetry in a data set. Skewness is demonstrated on a bell curve when data points are not distributed symmetrically to the left and right sides of the median on a bell curve."
   ]
  },
  {
   "cell_type": "markdown",
   "id": "02217595-6004-4d05-ba40-8439c029b677",
   "metadata": {},
   "source": [
    "Q9. If a data is right skewed then what will be the position of median with respect to mean?"
   ]
  },
  {
   "cell_type": "markdown",
   "id": "12296c80-f541-45c6-8309-b46f0a083ee1",
   "metadata": {},
   "source": [
    "Ans:- if data is right skewd then position of median with respect to mean is mean>median>mode"
   ]
  },
  {
   "cell_type": "markdown",
   "id": "32db8c87-2689-4a13-a0d1-20615362d9be",
   "metadata": {},
   "source": [
    "Q10. Explain the difference between covariance and correlation. How are these measures used in\n",
    "statistical analysis?"
   ]
  },
  {
   "cell_type": "markdown",
   "id": "b19c35cc-7091-4212-a17c-8109219707c4",
   "metadata": {},
   "source": [
    "Ans:- covariance:- Covariance indicates the direction of the linear relationship between variables.\n",
    "      correlation:- Correlation measures both the strength and direction of the linear relationship between two variables."
   ]
  },
  {
   "cell_type": "code",
   "execution_count": 2,
   "id": "095d5d7b-92f2-42b3-8337-47838a8a2d16",
   "metadata": {},
   "outputs": [
    {
     "data": {
      "text/html": [
       "<div>\n",
       "<style scoped>\n",
       "    .dataframe tbody tr th:only-of-type {\n",
       "        vertical-align: middle;\n",
       "    }\n",
       "\n",
       "    .dataframe tbody tr th {\n",
       "        vertical-align: top;\n",
       "    }\n",
       "\n",
       "    .dataframe thead th {\n",
       "        text-align: right;\n",
       "    }\n",
       "</style>\n",
       "<table border=\"1\" class=\"dataframe\">\n",
       "  <thead>\n",
       "    <tr style=\"text-align: right;\">\n",
       "      <th></th>\n",
       "      <th>Year</th>\n",
       "      <th>Country</th>\n",
       "      <th>Spending_USD</th>\n",
       "      <th>Life_Expectancy</th>\n",
       "    </tr>\n",
       "  </thead>\n",
       "  <tbody>\n",
       "    <tr>\n",
       "      <th>0</th>\n",
       "      <td>1970</td>\n",
       "      <td>Germany</td>\n",
       "      <td>252.311</td>\n",
       "      <td>70.6</td>\n",
       "    </tr>\n",
       "    <tr>\n",
       "      <th>1</th>\n",
       "      <td>1970</td>\n",
       "      <td>France</td>\n",
       "      <td>192.143</td>\n",
       "      <td>72.2</td>\n",
       "    </tr>\n",
       "    <tr>\n",
       "      <th>2</th>\n",
       "      <td>1970</td>\n",
       "      <td>Great Britain</td>\n",
       "      <td>123.993</td>\n",
       "      <td>71.9</td>\n",
       "    </tr>\n",
       "    <tr>\n",
       "      <th>3</th>\n",
       "      <td>1970</td>\n",
       "      <td>Japan</td>\n",
       "      <td>150.437</td>\n",
       "      <td>72.0</td>\n",
       "    </tr>\n",
       "    <tr>\n",
       "      <th>4</th>\n",
       "      <td>1970</td>\n",
       "      <td>USA</td>\n",
       "      <td>326.961</td>\n",
       "      <td>70.9</td>\n",
       "    </tr>\n",
       "  </tbody>\n",
       "</table>\n",
       "</div>"
      ],
      "text/plain": [
       "   Year        Country  Spending_USD  Life_Expectancy\n",
       "0  1970        Germany       252.311             70.6\n",
       "1  1970         France       192.143             72.2\n",
       "2  1970  Great Britain       123.993             71.9\n",
       "3  1970          Japan       150.437             72.0\n",
       "4  1970            USA       326.961             70.9"
      ]
     },
     "execution_count": 2,
     "metadata": {},
     "output_type": "execute_result"
    }
   ],
   "source": [
    "import seaborn as sns\n",
    "df=sns.load_dataset(\"healthexp\")\n",
    "df.head()"
   ]
  },
  {
   "cell_type": "code",
   "execution_count": 3,
   "id": "a2136b6a-4002-4e53-bff7-3a4ec0cf1f97",
   "metadata": {},
   "outputs": [
    {
     "name": "stderr",
     "output_type": "stream",
     "text": [
      "/tmp/ipykernel_77/859022320.py:3: FutureWarning: The default value of numeric_only in DataFrame.cov is deprecated. In a future version, it will default to False. Select only valid columns or specify the value of numeric_only to silence this warning.\n",
      "  df.cov()\n"
     ]
    },
    {
     "data": {
      "text/html": [
       "<div>\n",
       "<style scoped>\n",
       "    .dataframe tbody tr th:only-of-type {\n",
       "        vertical-align: middle;\n",
       "    }\n",
       "\n",
       "    .dataframe tbody tr th {\n",
       "        vertical-align: top;\n",
       "    }\n",
       "\n",
       "    .dataframe thead th {\n",
       "        text-align: right;\n",
       "    }\n",
       "</style>\n",
       "<table border=\"1\" class=\"dataframe\">\n",
       "  <thead>\n",
       "    <tr style=\"text-align: right;\">\n",
       "      <th></th>\n",
       "      <th>Year</th>\n",
       "      <th>Spending_USD</th>\n",
       "      <th>Life_Expectancy</th>\n",
       "    </tr>\n",
       "  </thead>\n",
       "  <tbody>\n",
       "    <tr>\n",
       "      <th>Year</th>\n",
       "      <td>201.098848</td>\n",
       "      <td>2.571883e+04</td>\n",
       "      <td>41.915454</td>\n",
       "    </tr>\n",
       "    <tr>\n",
       "      <th>Spending_USD</th>\n",
       "      <td>25718.827373</td>\n",
       "      <td>4.817761e+06</td>\n",
       "      <td>4166.800912</td>\n",
       "    </tr>\n",
       "    <tr>\n",
       "      <th>Life_Expectancy</th>\n",
       "      <td>41.915454</td>\n",
       "      <td>4.166801e+03</td>\n",
       "      <td>10.733902</td>\n",
       "    </tr>\n",
       "  </tbody>\n",
       "</table>\n",
       "</div>"
      ],
      "text/plain": [
       "                         Year  Spending_USD  Life_Expectancy\n",
       "Year               201.098848  2.571883e+04        41.915454\n",
       "Spending_USD     25718.827373  4.817761e+06      4166.800912\n",
       "Life_Expectancy     41.915454  4.166801e+03        10.733902"
      ]
     },
     "execution_count": 3,
     "metadata": {},
     "output_type": "execute_result"
    }
   ],
   "source": [
    "##Covariance\n",
    "import numpy as np\n",
    "df.cov()"
   ]
  },
  {
   "cell_type": "code",
   "execution_count": 4,
   "id": "87d4e7d6-7d97-4a79-b338-ad88dac9f9c2",
   "metadata": {},
   "outputs": [
    {
     "name": "stderr",
     "output_type": "stream",
     "text": [
      "/tmp/ipykernel_77/3970764469.py:2: FutureWarning: The default value of numeric_only in DataFrame.corr is deprecated. In a future version, it will default to False. Select only valid columns or specify the value of numeric_only to silence this warning.\n",
      "  df.corr()\n"
     ]
    },
    {
     "data": {
      "text/html": [
       "<div>\n",
       "<style scoped>\n",
       "    .dataframe tbody tr th:only-of-type {\n",
       "        vertical-align: middle;\n",
       "    }\n",
       "\n",
       "    .dataframe tbody tr th {\n",
       "        vertical-align: top;\n",
       "    }\n",
       "\n",
       "    .dataframe thead th {\n",
       "        text-align: right;\n",
       "    }\n",
       "</style>\n",
       "<table border=\"1\" class=\"dataframe\">\n",
       "  <thead>\n",
       "    <tr style=\"text-align: right;\">\n",
       "      <th></th>\n",
       "      <th>Year</th>\n",
       "      <th>Spending_USD</th>\n",
       "      <th>Life_Expectancy</th>\n",
       "    </tr>\n",
       "  </thead>\n",
       "  <tbody>\n",
       "    <tr>\n",
       "      <th>Year</th>\n",
       "      <td>1.000000</td>\n",
       "      <td>0.826273</td>\n",
       "      <td>0.902175</td>\n",
       "    </tr>\n",
       "    <tr>\n",
       "      <th>Spending_USD</th>\n",
       "      <td>0.826273</td>\n",
       "      <td>1.000000</td>\n",
       "      <td>0.579430</td>\n",
       "    </tr>\n",
       "    <tr>\n",
       "      <th>Life_Expectancy</th>\n",
       "      <td>0.902175</td>\n",
       "      <td>0.579430</td>\n",
       "      <td>1.000000</td>\n",
       "    </tr>\n",
       "  </tbody>\n",
       "</table>\n",
       "</div>"
      ],
      "text/plain": [
       "                     Year  Spending_USD  Life_Expectancy\n",
       "Year             1.000000      0.826273         0.902175\n",
       "Spending_USD     0.826273      1.000000         0.579430\n",
       "Life_Expectancy  0.902175      0.579430         1.000000"
      ]
     },
     "execution_count": 4,
     "metadata": {},
     "output_type": "execute_result"
    }
   ],
   "source": [
    "##Correlation\n",
    "df.corr()"
   ]
  },
  {
   "cell_type": "markdown",
   "id": "5169f744-ce81-43b6-83c0-c6ec7ba88a3d",
   "metadata": {},
   "source": [
    "Q11. What is the formula for calculating the sample mean? Provide an example calculation for a\n",
    "dataset."
   ]
  },
  {
   "cell_type": "markdown",
   "id": "15d1d9ae-1602-408d-ba36-115d6ea493e2",
   "metadata": {},
   "source": [
    "Ans:-  x̄ = ( Σ xi ) / n"
   ]
  },
  {
   "cell_type": "code",
   "execution_count": 6,
   "id": "128d42e4-754c-4a6a-9102-77e7366dd36a",
   "metadata": {},
   "outputs": [
    {
     "data": {
      "text/plain": [
       "155.2"
      ]
     },
     "execution_count": 6,
     "metadata": {},
     "output_type": "execute_result"
    }
   ],
   "source": [
    "import numpy as np\n",
    "weights=[45,34,55,76,45,35,89,98,75,1000]\n",
    "np.mean(weights)"
   ]
  },
  {
   "cell_type": "markdown",
   "id": "6b2150e2-f767-4f74-9b90-f5ed6d74fe8f",
   "metadata": {},
   "source": [
    "Q12. For a normal distribution data what is the relationship between its measure of central tendency?"
   ]
  },
  {
   "cell_type": "markdown",
   "id": "069e7160-bebc-4459-8808-209b3dd3dfaa",
   "metadata": {},
   "source": [
    "Ans:- In normal distribution, measure of central tendency is equal."
   ]
  },
  {
   "cell_type": "markdown",
   "id": "1aea905a-b3f4-4884-b85e-dd48295f655a",
   "metadata": {},
   "source": [
    "Q13. How is covariance different from correlation?"
   ]
  },
  {
   "cell_type": "markdown",
   "id": "b4a17d4e-4b55-46ac-99f7-2d79757366a7",
   "metadata": {},
   "source": [
    "Ans:- Covariance indicates the direction of the linear relationship between variables while correlation measures both the strength and direction of the linear relationship between two variables. Correlation is a function of the covariance."
   ]
  },
  {
   "cell_type": "markdown",
   "id": "e2f5ea40-8021-4672-bf3c-2adfe9b2fb70",
   "metadata": {},
   "source": [
    "Q14. How do outliers affect measures of central tendency and dispersion? Provide an example."
   ]
  },
  {
   "cell_type": "markdown",
   "id": "caf5333d-df46-4cef-ba24-ebdf3ec0c4f9",
   "metadata": {},
   "source": [
    "Ans:- Outliers can pull the mean towards their extreme values. If there are outliers with large values, the mean can be inflated, while outliers with small values can lower the mean."
   ]
  },
  {
   "cell_type": "code",
   "execution_count": 7,
   "id": "8fb41147-da1d-422d-ae3e-0b543b17fdfe",
   "metadata": {},
   "outputs": [
    {
     "data": {
      "text/plain": [
       "155.2"
      ]
     },
     "execution_count": 7,
     "metadata": {},
     "output_type": "execute_result"
    }
   ],
   "source": [
    "##Example\n",
    "import numpy as np\n",
    "weights=[45,34,55,76,45,35,89,98,75,1000]\n",
    "np.mean(weights)"
   ]
  }
 ],
 "metadata": {
  "kernelspec": {
   "display_name": "Python 3 (ipykernel)",
   "language": "python",
   "name": "python3"
  },
  "language_info": {
   "codemirror_mode": {
    "name": "ipython",
    "version": 3
   },
   "file_extension": ".py",
   "mimetype": "text/x-python",
   "name": "python",
   "nbconvert_exporter": "python",
   "pygments_lexer": "ipython3",
   "version": "3.10.8"
  }
 },
 "nbformat": 4,
 "nbformat_minor": 5
}
